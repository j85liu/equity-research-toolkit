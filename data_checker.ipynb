{
 "cells": [
  {
   "cell_type": "code",
   "execution_count": null,
   "id": "84871dd7",
   "metadata": {},
   "outputs": [],
   "source": [
    "import pandas as pd\n",
    "msft_data = pd.read_csv('data/msft_financial_data.csv')\n",
    "print(msft_data.head())\n",
    "print(f\"Date range: {msft_data['date'].min()} to {msft_data['date'].max()}\")"
   ]
  }
 ],
 "metadata": {
  "language_info": {
   "name": "python"
  }
 },
 "nbformat": 4,
 "nbformat_minor": 5
}
