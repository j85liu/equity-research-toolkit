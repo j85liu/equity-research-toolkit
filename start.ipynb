{
 "cells": [
  {
   "cell_type": "code",
   "execution_count": null,
   "id": "1c1647ba",
   "metadata": {
    "vscode": {
     "languageId": "plaintext"
    }
   },
   "outputs": [],
   "source": [
    "# SEC filings - completely automatable\n",
    "import requests\n",
    "edgar_url = \"https://data.sec.gov/api/xbrl/companyconcept/\"\n",
    "\n",
    "# Yahoo Finance - reliable and free\n",
    "import yfinance as yf\n",
    "ticker = yf.Ticker(\"MSFT\")"
   ]
  },
  {
   "cell_type": "code",
   "execution_count": null,
   "id": "2baec64e",
   "metadata": {
    "vscode": {
     "languageId": "plaintext"
    }
   },
   "outputs": [],
   "source": []
  }
 ],
 "metadata": {
  "language_info": {
   "name": "python"
  }
 },
 "nbformat": 4,
 "nbformat_minor": 5
}
